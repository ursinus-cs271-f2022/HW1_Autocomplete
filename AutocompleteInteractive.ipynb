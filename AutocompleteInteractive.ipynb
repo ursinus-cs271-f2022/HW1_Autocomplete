{
 "cells": [
  {
   "cell_type": "markdown",
   "id": "b201026f",
   "metadata": {},
   "source": [
    "# An Interactive Autocorrect Interface"
   ]
  },
  {
   "cell_type": "code",
   "execution_count": 1,
   "id": "0c801c90",
   "metadata": {},
   "outputs": [
    {
     "data": {
      "application/vnd.jupyter.widget-view+json": {
       "model_id": "5580d09aaf4d4394b37e45a0824c2351",
       "version_major": 2,
       "version_minor": 0
      },
      "text/plain": [
       "Textarea(value='', description='String:', placeholder='Type something')"
      ]
     },
     "metadata": {},
     "output_type": "display_data"
    },
    {
     "data": {
      "application/vnd.jupyter.widget-view+json": {
       "model_id": "e3b836affed34de5a8e438c8bf5e6d15",
       "version_major": 2,
       "version_minor": 0
      },
      "text/plain": [
       "Select(description='Autocompletions:', options=(), rows=20, value=None)"
      ]
     },
     "metadata": {},
     "output_type": "display_data"
    }
   ],
   "source": [
    "%load_ext autoreload\n",
    "%autoreload 2\n",
    "\n",
    "import numpy as np\n",
    "import ipywidgets as widgets\n",
    "from IPython.display import display\n",
    "from autocomplete import *\n",
    "\n",
    "\n",
    "autocomplete = Autocomplete(\"words.txt\")\n",
    "max_terms = 20\n",
    "\n",
    "def function(option):\n",
    "    print(option)\n",
    "\n",
    "    \n",
    "alist = widgets.Select(\n",
    "    options=[],\n",
    "    rows=max_terms,\n",
    "    description='Autocompletions:',\n",
    "    disabled=False\n",
    ")\n",
    "\n",
    "def reset_options(c):\n",
    "    alist.options = tuple([chr(ord(\"a\")+i) for i in range(20)])\n",
    "\n",
    "\n",
    "wtext = widgets.Textarea(\n",
    "    value='',\n",
    "    placeholder='Type something',\n",
    "    description='String:',\n",
    "    disabled=False\n",
    ")\n",
    "\n",
    "def typing(c):\n",
    "    s = wtext.value.lower()\n",
    "    if len(s) > 1:\n",
    "        terms = autocomplete.all_matches(s)\n",
    "        alist.options = tuple(terms[0:max_terms])\n",
    "    else:\n",
    "        alist.options = tuple([])\n",
    "\n",
    "wtext.observe(typing)\n",
    "\n",
    "\n",
    "\n",
    "display(wtext)\n",
    "display(alist)"
   ]
  }
 ],
 "metadata": {
  "kernelspec": {
   "display_name": "Python 3 (ipykernel)",
   "language": "python",
   "name": "python3"
  },
  "language_info": {
   "codemirror_mode": {
    "name": "ipython",
    "version": 3
   },
   "file_extension": ".py",
   "mimetype": "text/x-python",
   "name": "python",
   "nbconvert_exporter": "python",
   "pygments_lexer": "ipython3",
   "version": "3.9.7"
  }
 },
 "nbformat": 4,
 "nbformat_minor": 5
}
