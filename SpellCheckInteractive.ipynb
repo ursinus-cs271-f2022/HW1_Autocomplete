{
 "cells": [
  {
   "cell_type": "markdown",
   "id": "b201026f",
   "metadata": {},
   "source": [
    "# A Spell Check Interface\n",
    "## Chris Tralie"
   ]
  },
  {
   "cell_type": "code",
   "execution_count": 1,
   "id": "6c6baee2",
   "metadata": {},
   "outputs": [
    {
     "data": {
      "application/vnd.jupyter.widget-view+json": {
       "model_id": "c83757280f53429aa2b1a7b2b0775e26",
       "version_major": 2,
       "version_minor": 0
      },
      "text/plain": [
       "Textarea(value='', description='String:', placeholder='Type something')"
      ]
     },
     "metadata": {},
     "output_type": "display_data"
    },
    {
     "data": {
      "application/vnd.jupyter.widget-view+json": {
       "model_id": "c5ef9774ee7e426b9f925a45202f5646",
       "version_major": 2,
       "version_minor": 0
      },
      "text/plain": [
       "HTML(value='', description='Result', placeholder='Result goes here')"
      ]
     },
     "metadata": {},
     "output_type": "display_data"
    }
   ],
   "source": [
    "%load_ext autoreload\n",
    "%autoreload 2\n",
    "\n",
    "import numpy as np\n",
    "import ipywidgets as widgets\n",
    "from IPython.display import display\n",
    "from spellcheck import *\n",
    "\n",
    "checker = SpellChecker(40000)\n",
    "\n",
    "wresult = widgets.HTML(\n",
    "    value=\"\",\n",
    "    placeholder='Result goes here',\n",
    "    description='Result',\n",
    ")\n",
    "\n",
    "\n",
    "wtext = widgets.Textarea(\n",
    "    value='',\n",
    "    placeholder='Type something',\n",
    "    description='String:',\n",
    "    disabled=False\n",
    ")\n",
    "\n",
    "SPECIAL_CHARACTERS = [\".\", \"\\\"\", \"(\", \")\", \",\", \"?\", \"!\", \"\\n\", \":\", \";\", \"--\"]\n",
    "\n",
    "def replace_special(ptext):\n",
    "    text = \"\" + ptext\n",
    "    for sc in SPECIAL_CHARACTERS:\n",
    "        text = text.replace(sc, \"\")\n",
    "    return text\n",
    "\n",
    "def typing(c):\n",
    "    s = wtext.value\n",
    "    result = checker.check(replace_special(s))\n",
    "    html = \"\"\n",
    "    for w, r in zip(s.split(), result):\n",
    "        if r:\n",
    "            html += w + \" \"\n",
    "        else:\n",
    "            html += \"<span style=\\\"color:red\\\">\" + w + \"</span> \"\n",
    "    wresult.value = html\n",
    "\n",
    "wtext.observe(typing)\n",
    "display(wtext)\n",
    "display(wresult)"
   ]
  },
  {
   "cell_type": "code",
   "execution_count": null,
   "id": "4ccd8845",
   "metadata": {},
   "outputs": [],
   "source": []
  }
 ],
 "metadata": {
  "kernelspec": {
   "display_name": "Python 3 (ipykernel)",
   "language": "python",
   "name": "python3"
  },
  "language_info": {
   "codemirror_mode": {
    "name": "ipython",
    "version": 3
   },
   "file_extension": ".py",
   "mimetype": "text/x-python",
   "name": "python",
   "nbconvert_exporter": "python",
   "pygments_lexer": "ipython3",
   "version": "3.9.7"
  }
 },
 "nbformat": 4,
 "nbformat_minor": 5
}
